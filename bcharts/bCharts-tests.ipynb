{
 "cells": [
  {
   "cell_type": "code",
   "execution_count": 2,
   "metadata": {},
   "outputs": [
    {
     "name": "stdout",
     "output_type": "stream",
     "text": [
      "Obtaining file:///Users/jordan.george/Google%20Drive/IBM/pixiedust_incubator/bcharts\n",
      "Requirement already up-to-date: pixiedust in /Users/jordan.george/Desktop/pixiedust code/pixiedust (from bCharts==0.1)\n",
      "Requirement already up-to-date: mpld3 in /usr/local/lib/python2.7/site-packages (from pixiedust->bCharts==0.1)\n",
      "Requirement already up-to-date: lxml in /Users/jordan.george/Library/Python/2.7/lib/python/site-packages (from pixiedust->bCharts==0.1)\n",
      "Requirement already up-to-date: geojson in /Users/jordan.george/Library/Python/2.7/lib/python/site-packages (from pixiedust->bCharts==0.1)\n",
      "Installing collected packages: bCharts\n",
      "  Found existing installation: bCharts 0.1\n",
      "    Uninstalling bCharts-0.1:\n",
      "      Successfully uninstalled bCharts-0.1\n",
      "  Running setup.py develop for bCharts\n",
      "Successfully installed bCharts\n"
     ]
    }
   ],
   "source": [
    "!pip install --upgrade -e /Users/jordan.george/Google\\ Drive/IBM/pixiedust_incubator/bcharts"
   ]
  },
  {
   "cell_type": "code",
   "execution_count": 1,
   "metadata": {
    "pixiedust": {
     "displayParams": {
      "aggregation": "SUM",
      "chartURL": "false",
      "chartsize": "100",
      "handlerId": "barChart",
      "keyFields": "zone",
      "legend": "true",
      "rendererId": "bCharts",
      "rowCount": "500",
      "showDesigner": "No",
      "valueFields": "unique_customers"
     }
    },
    "scrolled": false
   },
   "outputs": [
    {
     "data": {
      "text/html": [
       "<style type=\"text/css\">.pd_warning{display:none;}</style><div class=\"pd_warning\"><em>Hey, there's something awesome here! To see it, open this notebook outside GitHub, in a viewer like Jupyter</em></div>"
      ],
      "text/plain": [
       "<IPython.core.display.HTML object>"
      ]
     },
     "metadata": {},
     "output_type": "display_data"
    }
   ],
   "source": [
    "import pixiedust\n",
    "import bCharts\n",
    "\n",
    "sqlContext = SQLContext(sc)\n",
    "df = sqlContext.createDataFrame(\n",
    "[(2010, 'Camping Equipment', 3),\n",
    " (2010, 'Golf Equipment', 1),\n",
    " (2010, 'Mountaineering Equipment', 1),\n",
    " (2010, 'Outdoor Protection', 2),\n",
    " (2010, 'Personal Accessories', 2),\n",
    " (2011, 'Camping Equipment', 4),\n",
    " (2011, 'Golf Equipment', 5),\n",
    " (2011, 'Mountaineering Equipment',2),\n",
    " (2011, 'Outdoor Protection', 4),\n",
    " (2011, 'Personal Accessories', 2),\n",
    " (2012, 'Camping Equipment', 5),\n",
    " (2012, 'Golf Equipment', 5),\n",
    " (2012, 'Mountaineering Equipment', 3),\n",
    " (2012, 'Outdoor Protection', 5),\n",
    " (2012, 'Personal Accessories', 3),\n",
    " (2013, 'Camping Equipment', 8),\n",
    " (2013, 'Golf Equipment', 5),\n",
    " (2013, 'Mountaineering Equipment', 3),\n",
    " (2013, 'Outdoor Protection', 8),\n",
    " (2013, 'Personal Accessories', 4)],\n",
    "[\"year\",\"zone\",\"unique_customers\"])\n",
    "\n",
    "display(df)"
   ]
  },
  {
   "cell_type": "code",
   "execution_count": 2,
   "metadata": {},
   "outputs": [
    {
     "name": "stdout",
     "output_type": "stream",
     "text": [
      "2017-07-07 12:03:09,246 - pixiedust.utils.storage - INFO - No change in version: 1.0.7 -> 1.0.7.\n",
      "2017-07-07 12:03:11,242 - pixiedust.display - DEBUG - Creating a new display handler with options {}: <pixiedust.display.display.CellHandshakeMeta object at 0x10c09d210>\n",
      "2017-07-07 12:03:11,908 - pixiedust.display - DEBUG - Creating a new display handler with options {'nostore_bokeh': 'false', 'cell_id': '677744D4CFC9406C8A2D646EA70E17F8', 'nostore_cw': '1098', 'org_params': 'nostore_pixiedust', 'chartsize': '100', 'showDesigner': 'No', 'aggregation': 'SUM', 'legend': 'true', 'rowCount': '500', 'handlerId': 'barChart', 'valueFields': 'unique_customers', 'rendererId': 'bCharts', 'keyFields': 'zone', 'chartURL': 'false', 'nostore_pixiedust': 'true', 'showchrome': 'true'}: <pixiedust.display.chart.ChartDisplayMeta object at 0x10bffbd10>\n",
      "2017-07-07 12:03:11,915 - pixiedust.display.chart.renderers - DEBUG - Found renderer: bCharts - barChart\n",
      "2017-07-07 12:03:12,350 - pixiedust.display - DEBUG - Creating a new display handler with options {'nostore_bokeh': 'false', 'prefix': 'd0c071b8', 'cell_id': '677744D4CFC9406C8A2D646EA70E17F8', 'nostore_cw': '1098', 'org_params': 'nostore_pixiedust', 'chartsize': '100', 'showDesigner': 'No', 'aggregation': 'SUM', 'legend': 'true', 'rowCount': '500', 'handlerId': 'barChart', 'valueFields': 'unique_customers', 'rendererId': 'bCharts', 'keyFields': 'zone', 'chartURL': 'false', 'nostore_pixiedust': 'true'}: <pixiedust.display.chart.ChartDisplayMeta object at 0x10bffbd10>\n",
      "2017-07-07 12:03:12,356 - pixiedust.display.chart.renderers - DEBUG - Found renderer: bCharts - barChart\n",
      "2017-07-07 12:03:12,357 - pixiedust.display.display.Display - DEBUG - chartOptions [{'metadata': {'default': 'Keys ASC', 'values': ['Keys ASC', 'Keys DESC', 'Values ASC', 'Values DESC'], 'type': 'dropdown'}, 'name': 'sortby', 'description': 'Sort By'}]\n",
      "2017-07-07 12:03:12,357 - pixiedust.utils.template - DEBUG - Template already qualified bCharts.rendererBaseDisplay:bChartsOptionsDialogBody.html\n",
      "2017-07-07 12:03:12,384 - pixiedust.display.chart.renderers.baseChartDisplay - DEBUG - No Cache Entry found for 677744D4CFC9406C8A2D646EA70E17F8\n"
     ]
    }
   ],
   "source": [
    "%pixiedustLog -l debug"
   ]
  },
  {
   "cell_type": "code",
   "execution_count": null,
   "metadata": {
    "collapsed": true
   },
   "outputs": [],
   "source": []
  }
 ],
 "metadata": {
  "kernelspec": {
   "display_name": "Python with Pixiedust (Spark 1.6)",
   "language": "python",
   "name": "pythonwithpixiedustspark16"
  },
  "language_info": {
   "codemirror_mode": {
    "name": "ipython",
    "version": 2
   },
   "file_extension": ".py",
   "mimetype": "text/x-python",
   "name": "python",
   "nbconvert_exporter": "python",
   "pygments_lexer": "ipython2",
   "version": "2.7.13"
  }
 },
 "nbformat": 4,
 "nbformat_minor": 2
}
